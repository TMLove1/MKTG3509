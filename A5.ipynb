{
  "nbformat": 4,
  "nbformat_minor": 0,
  "metadata": {
    "colab": {
      "name": "A5.ipynb",
      "provenance": [],
      "collapsed_sections": []
    },
    "kernelspec": {
      "name": "python3",
      "display_name": "Python 3"
    }
  },
  "cells": [
    {
      "cell_type": "markdown",
      "metadata": {
        "id": "I_GfWSOmUL9h"
      },
      "source": [
        "**Rationale** Hypothesis testing is foundational to the entire field of statistics. Without the Central Limit Theorem and hypothesis testing, we would not have modern day (social) science. In marketing, this is generally most important when doing A/B testing of ads. In this assignment, you will practice computing basic summary statistics and conducting hypothesis tests. \n",
        "\n",
        "[Datasets](https://drive.google.com/drive/folders/1D6D-zRU3oiP12c0dFMQjs66JDhBZBtax?usp=sharing) required:\n",
        "1. [FB ad campaign data](https://drive.google.com/file/d/1JfwvumxS2oys8ZcQtsb8GGmeRfnkzFdy/view?usp=sharing).\n",
        "1. [Starbucks Promos](https://drive.google.com/file/d/1W7x5_PU5KszT8mqXqqEmRfXuR8CRr1DX/view?usp=sharing)"
      ]
    },
    {
      "cell_type": "markdown",
      "metadata": {
        "id": "DdmKkAgxwLZB"
      },
      "source": [
        "# 1. (2 points) FB Ad campaigns\n",
        "\n",
        "1. Use a groupby operation create a dataframe called `sumstats` consisting of the total impressions and clicks for each `xyz_campaign_id`.\n",
        "1. Using `sumstats`, create a new column called `ctr` that represents the [click through rate](https://support.google.com/google-ads/answer/2615875?hl=en) for each campaign. Which campaign had the highest CTR?\n",
        "1. Create a column for `sd` for standard deviation of the click through rate. \n",
        "\n",
        "Hint: Recall from the notes that the standard deviation of a binomial distribution with $Pr(Success) = p$ is $SD(p) = \\sqrt{p(1-p)}$. So if the probability of a binary outcome (such as clicking on an ad) is observed to be .3, the standard deviation is $\\sqrt{.3(.7)}=\\sqrt{.21}$."
      ]
    },
    {
      "cell_type": "code",
      "metadata": {
        "id": "5zHCASKUwPwY",
        "colab": {
          "base_uri": "https://localhost:8080/"
        },
        "outputId": "d6321434-1b46-4e52-ac23-e7267ad8657e"
      },
      "source": [
        "# imports and mount google drive\n",
        "import os, pandas as pd, numpy as np\n",
        "from scipy import stats\n",
        "\n",
        "from google.colab import drive\n",
        "drive.mount('drive')"
      ],
      "execution_count": null,
      "outputs": [
        {
          "output_type": "stream",
          "name": "stdout",
          "text": [
            "Mounted at drive\n"
          ]
        }
      ]
    },
    {
      "cell_type": "code",
      "metadata": {
        "id": "gV3R6R-6v3tG",
        "colab": {
          "base_uri": "https://localhost:8080/"
        },
        "outputId": "2972a010-b831-4818-b15e-ac994042854a"
      },
      "source": [
        "# set the path to the datasets for A5\n",
        "fpath = 'drive/MyDrive/Customer Data Analysis/'\n",
        "os.listdir(fpath)"
      ],
      "execution_count": null,
      "outputs": [
        {
          "output_type": "execute_result",
          "data": {
            "text/plain": [
              "['MyNotes Mod1.ipynb',\n",
              " 'A1 Treasure Love_Part1.ipynb',\n",
              " 'A1_Part2.ipynb',\n",
              " 'MyNotes_Mod2.ipynb',\n",
              " 'A2 Programming Fundamentals.ipynb',\n",
              " 'stores A data-set.csv',\n",
              " 'stores data-set.csv',\n",
              " 'stores B data-set.csv',\n",
              " 'stores C data-set.csv',\n",
              " 'sales data-set.csv',\n",
              " '9-8_notes2.ipynb',\n",
              " 'Colab Notebooks',\n",
              " 'quebec_yelp_reviews.csv',\n",
              " 'quebec_biz.csv',\n",
              " 'Quebec_dataset.csv',\n",
              " '9-8_notes.ipynb',\n",
              " 'A3.ipynb',\n",
              " 'Copy of InClass_Module_3.ipynb',\n",
              " 'telecom_churn.csv',\n",
              " 'renttherunway_final_data.json',\n",
              " 'A4.ipynb',\n",
              " 'Notes_Sept15.ipynb',\n",
              " '9 22_Notes.ipynb',\n",
              " '9-29_notes.ipynb',\n",
              " 'facebook_ads.csv',\n",
              " 'starbucks_promos.csv',\n",
              " 'A4 F2021 - Visualization.ipynb',\n",
              " 'A5.ipynb']"
            ]
          },
          "metadata": {},
          "execution_count": 3
        }
      ]
    },
    {
      "cell_type": "code",
      "metadata": {
        "id": "kgp10eMov30B"
      },
      "source": [
        "# read in the facebook_ads.csv file as the dataframe variable named fb\n",
        "fb = pd.read_csv(fpath + 'facebook_ads.csv')"
      ],
      "execution_count": null,
      "outputs": []
    },
    {
      "cell_type": "code",
      "metadata": {
        "id": "Lcc5ZfCYv36W",
        "colab": {
          "base_uri": "https://localhost:8080/",
          "height": 204
        },
        "outputId": "01065dc2-374d-45e4-b92b-5a3e502ef3c3"
      },
      "source": [
        "# Take a look at the first 5 rows\n",
        "# Observe that each row represents 1 ad from 1 campaign and a target demographic group (age, gender, interest)\n",
        "fb.head()"
      ],
      "execution_count": null,
      "outputs": [
        {
          "output_type": "execute_result",
          "data": {
            "text/html": [
              "<div>\n",
              "<style scoped>\n",
              "    .dataframe tbody tr th:only-of-type {\n",
              "        vertical-align: middle;\n",
              "    }\n",
              "\n",
              "    .dataframe tbody tr th {\n",
              "        vertical-align: top;\n",
              "    }\n",
              "\n",
              "    .dataframe thead th {\n",
              "        text-align: right;\n",
              "    }\n",
              "</style>\n",
              "<table border=\"1\" class=\"dataframe\">\n",
              "  <thead>\n",
              "    <tr style=\"text-align: right;\">\n",
              "      <th></th>\n",
              "      <th>ad_id</th>\n",
              "      <th>xyz_campaign_id</th>\n",
              "      <th>fb_campaign_id</th>\n",
              "      <th>age</th>\n",
              "      <th>gender</th>\n",
              "      <th>interest</th>\n",
              "      <th>Impressions</th>\n",
              "      <th>Clicks</th>\n",
              "      <th>Spent</th>\n",
              "      <th>Total_Conversion</th>\n",
              "      <th>Approved_Conversion</th>\n",
              "    </tr>\n",
              "  </thead>\n",
              "  <tbody>\n",
              "    <tr>\n",
              "      <th>0</th>\n",
              "      <td>708746</td>\n",
              "      <td>916</td>\n",
              "      <td>103916</td>\n",
              "      <td>30-34</td>\n",
              "      <td>M</td>\n",
              "      <td>15</td>\n",
              "      <td>7350</td>\n",
              "      <td>1</td>\n",
              "      <td>1.43</td>\n",
              "      <td>2</td>\n",
              "      <td>1</td>\n",
              "    </tr>\n",
              "    <tr>\n",
              "      <th>1</th>\n",
              "      <td>708749</td>\n",
              "      <td>916</td>\n",
              "      <td>103917</td>\n",
              "      <td>30-34</td>\n",
              "      <td>M</td>\n",
              "      <td>16</td>\n",
              "      <td>17861</td>\n",
              "      <td>2</td>\n",
              "      <td>1.82</td>\n",
              "      <td>2</td>\n",
              "      <td>0</td>\n",
              "    </tr>\n",
              "    <tr>\n",
              "      <th>2</th>\n",
              "      <td>708771</td>\n",
              "      <td>916</td>\n",
              "      <td>103920</td>\n",
              "      <td>30-34</td>\n",
              "      <td>M</td>\n",
              "      <td>20</td>\n",
              "      <td>693</td>\n",
              "      <td>0</td>\n",
              "      <td>0.00</td>\n",
              "      <td>1</td>\n",
              "      <td>0</td>\n",
              "    </tr>\n",
              "    <tr>\n",
              "      <th>3</th>\n",
              "      <td>708815</td>\n",
              "      <td>916</td>\n",
              "      <td>103928</td>\n",
              "      <td>30-34</td>\n",
              "      <td>M</td>\n",
              "      <td>28</td>\n",
              "      <td>4259</td>\n",
              "      <td>1</td>\n",
              "      <td>1.25</td>\n",
              "      <td>1</td>\n",
              "      <td>0</td>\n",
              "    </tr>\n",
              "    <tr>\n",
              "      <th>4</th>\n",
              "      <td>708818</td>\n",
              "      <td>916</td>\n",
              "      <td>103928</td>\n",
              "      <td>30-34</td>\n",
              "      <td>M</td>\n",
              "      <td>28</td>\n",
              "      <td>4133</td>\n",
              "      <td>1</td>\n",
              "      <td>1.29</td>\n",
              "      <td>1</td>\n",
              "      <td>1</td>\n",
              "    </tr>\n",
              "  </tbody>\n",
              "</table>\n",
              "</div>"
            ],
            "text/plain": [
              "    ad_id  xyz_campaign_id  ...  Total_Conversion Approved_Conversion\n",
              "0  708746              916  ...                 2                   1\n",
              "1  708749              916  ...                 2                   0\n",
              "2  708771              916  ...                 1                   0\n",
              "3  708815              916  ...                 1                   0\n",
              "4  708818              916  ...                 1                   1\n",
              "\n",
              "[5 rows x 11 columns]"
            ]
          },
          "metadata": {},
          "execution_count": 5
        }
      ]
    },
    {
      "cell_type": "code",
      "metadata": {
        "id": "ed4vShBTwO8e",
        "colab": {
          "base_uri": "https://localhost:8080/"
        },
        "outputId": "60c992eb-ca16-4cc5-a302-696fb1e5bc10"
      },
      "source": [
        "# use a groupby to create new dataframe, sumstats that tabulates the total clicks and impressions for each campaign.\n",
        "# Generic groupby syntax: sumstats = df.groupby('groupbyvariable')[['summary_variable1', 'summary_variable2']].summaryfunction().reset_index()\n",
        "# use the correct dataframe name, variables (i.e. column names) and summaryfunction\n",
        "\n",
        "sumstats = fb.groupby('xyz_campaign_id')['Impressions', 'Clicks'].sum().reset_index()\n"
      ],
      "execution_count": null,
      "outputs": [
        {
          "output_type": "stream",
          "name": "stderr",
          "text": [
            "/usr/local/lib/python3.7/dist-packages/ipykernel_launcher.py:5: FutureWarning: Indexing with multiple keys (implicitly converted to a tuple of keys) will be deprecated, use a list instead.\n",
            "  \"\"\"\n"
          ]
        }
      ]
    },
    {
      "cell_type": "code",
      "metadata": {
        "id": "-fRgZWiJwO_E"
      },
      "source": [
        "# create a new column in sumstats called 'ctr' (short for click through rate)\n",
        "# recall that ctr = clicks / impressions\n",
        "\n",
        "sumstats['ctr']= sumstats['Clicks']/ sumstats['Impressions']"
      ],
      "execution_count": null,
      "outputs": []
    },
    {
      "cell_type": "code",
      "metadata": {
        "id": "whB7lmTmwPBy",
        "colab": {
          "base_uri": "https://localhost:8080/",
          "height": 142
        },
        "outputId": "50162ec7-8f18-4273-c71a-f1cdee409167"
      },
      "source": [
        "# take a look at the whole sumstats dataframe\n",
        "\n",
        "sumstats"
      ],
      "execution_count": null,
      "outputs": [
        {
          "output_type": "execute_result",
          "data": {
            "text/html": [
              "<div>\n",
              "<style scoped>\n",
              "    .dataframe tbody tr th:only-of-type {\n",
              "        vertical-align: middle;\n",
              "    }\n",
              "\n",
              "    .dataframe tbody tr th {\n",
              "        vertical-align: top;\n",
              "    }\n",
              "\n",
              "    .dataframe thead th {\n",
              "        text-align: right;\n",
              "    }\n",
              "</style>\n",
              "<table border=\"1\" class=\"dataframe\">\n",
              "  <thead>\n",
              "    <tr style=\"text-align: right;\">\n",
              "      <th></th>\n",
              "      <th>xyz_campaign_id</th>\n",
              "      <th>Impressions</th>\n",
              "      <th>Clicks</th>\n",
              "      <th>ctr</th>\n",
              "    </tr>\n",
              "  </thead>\n",
              "  <tbody>\n",
              "    <tr>\n",
              "      <th>0</th>\n",
              "      <td>916</td>\n",
              "      <td>482925</td>\n",
              "      <td>113</td>\n",
              "      <td>0.000234</td>\n",
              "    </tr>\n",
              "    <tr>\n",
              "      <th>1</th>\n",
              "      <td>936</td>\n",
              "      <td>8128187</td>\n",
              "      <td>1984</td>\n",
              "      <td>0.000244</td>\n",
              "    </tr>\n",
              "    <tr>\n",
              "      <th>2</th>\n",
              "      <td>1178</td>\n",
              "      <td>204823716</td>\n",
              "      <td>36068</td>\n",
              "      <td>0.000176</td>\n",
              "    </tr>\n",
              "  </tbody>\n",
              "</table>\n",
              "</div>"
            ],
            "text/plain": [
              "   xyz_campaign_id  Impressions  Clicks       ctr\n",
              "0              916       482925     113  0.000234\n",
              "1              936      8128187    1984  0.000244\n",
              "2             1178    204823716   36068  0.000176"
            ]
          },
          "metadata": {},
          "execution_count": 170
        }
      ]
    },
    {
      "cell_type": "code",
      "metadata": {
        "id": "MJquIHeo7oLg"
      },
      "source": [
        "# create a new column ctr_sd for the std. dev of the ctr (See hint above)\n",
        "# pay attention to PEMDAS, esp. that you want to take the sqrt after computing p*(1-p)\n",
        "# np.sqrt(x) returns the sqrt of some number x\n",
        "# alternatively, x**.5 also returns the sqrt of x\n",
        "\n",
        "p = sumstats.ctr\n",
        "sumstats['ctr_sd'] = np.sqrt(p*(1-p))"
      ],
      "execution_count": null,
      "outputs": []
    },
    {
      "cell_type": "code",
      "metadata": {
        "id": "F1-_ImT28dJe",
        "colab": {
          "base_uri": "https://localhost:8080/",
          "height": 142
        },
        "outputId": "47bf6321-3d97-45e5-bb28-eea8a27ee7f0"
      },
      "source": [
        "# take another look at the whole sumstats dataframe\n",
        "# compare the ctr_std to calculating it by hand, make sure you did this correctly.\n",
        "\n",
        "sumstats"
      ],
      "execution_count": null,
      "outputs": [
        {
          "output_type": "execute_result",
          "data": {
            "text/html": [
              "<div>\n",
              "<style scoped>\n",
              "    .dataframe tbody tr th:only-of-type {\n",
              "        vertical-align: middle;\n",
              "    }\n",
              "\n",
              "    .dataframe tbody tr th {\n",
              "        vertical-align: top;\n",
              "    }\n",
              "\n",
              "    .dataframe thead th {\n",
              "        text-align: right;\n",
              "    }\n",
              "</style>\n",
              "<table border=\"1\" class=\"dataframe\">\n",
              "  <thead>\n",
              "    <tr style=\"text-align: right;\">\n",
              "      <th></th>\n",
              "      <th>xyz_campaign_id</th>\n",
              "      <th>Impressions</th>\n",
              "      <th>Clicks</th>\n",
              "      <th>ctr</th>\n",
              "      <th>ctr_sd</th>\n",
              "    </tr>\n",
              "  </thead>\n",
              "  <tbody>\n",
              "    <tr>\n",
              "      <th>0</th>\n",
              "      <td>916</td>\n",
              "      <td>482925</td>\n",
              "      <td>113</td>\n",
              "      <td>0.000234</td>\n",
              "      <td>0.015295</td>\n",
              "    </tr>\n",
              "    <tr>\n",
              "      <th>1</th>\n",
              "      <td>936</td>\n",
              "      <td>8128187</td>\n",
              "      <td>1984</td>\n",
              "      <td>0.000244</td>\n",
              "      <td>0.015621</td>\n",
              "    </tr>\n",
              "    <tr>\n",
              "      <th>2</th>\n",
              "      <td>1178</td>\n",
              "      <td>204823716</td>\n",
              "      <td>36068</td>\n",
              "      <td>0.000176</td>\n",
              "      <td>0.013269</td>\n",
              "    </tr>\n",
              "  </tbody>\n",
              "</table>\n",
              "</div>"
            ],
            "text/plain": [
              "   xyz_campaign_id  Impressions  Clicks       ctr    ctr_sd\n",
              "0              916       482925     113  0.000234  0.015295\n",
              "1              936      8128187    1984  0.000244  0.015621\n",
              "2             1178    204823716   36068  0.000176  0.013269"
            ]
          },
          "metadata": {},
          "execution_count": 172
        }
      ]
    },
    {
      "cell_type": "markdown",
      "metadata": {
        "id": "8HRyqz1Exl4Y"
      },
      "source": [
        "## Answer (edit this cell)\n",
        "The campaign with the highest CTR is: **936**\n"
      ]
    },
    {
      "cell_type": "markdown",
      "metadata": {
        "id": "cEYwuOWowQaF"
      },
      "source": [
        "# 2. (4 points) Hypothesis testing and confidence intervals\n",
        "\n",
        "1. Compute the 95% confidence interval for the CTR for each campaign. Compare the confidence intervals of campaign 916 and 936. What can you conclude about the relative perfrmance of the 2 ads in the population (e.g. are they very different, similar, etc.)? How about 916 vs. 1178?\n",
        "\n",
        "**916 v 936 results show the range in relative performance of the two ads is very similar. For 916 v 1179, though the range for 916 has a broader range, 1179's is more skewed to the right.**\n",
        "\n",
        "1. Was campaign 936 statistically different compared to campaign 916? How about 936 vs. 1178? Use the `ttest_2sample` function from the notes. Remember, you must define it in your Colab session in order to use it (execute the cell w/ the function).\n",
        "\n",
        "**No, it's not much different**\n",
        "\n",
        "Given these statistical tests what would you recommend in terms of allocation of the ad budget? \n",
        "\n",
        "**I would recommend reallocating the budget, so more goes to the ads that do well.**"
      ]
    },
    {
      "cell_type": "code",
      "metadata": {
        "colab": {
          "base_uri": "https://localhost:8080/",
          "height": 142
        },
        "id": "k_Svlcsmk9Be",
        "outputId": "4bec4eed-3b90-415a-eed5-3bf819d8e48c"
      },
      "source": [
        "sumstats"
      ],
      "execution_count": null,
      "outputs": [
        {
          "output_type": "execute_result",
          "data": {
            "text/html": [
              "<div>\n",
              "<style scoped>\n",
              "    .dataframe tbody tr th:only-of-type {\n",
              "        vertical-align: middle;\n",
              "    }\n",
              "\n",
              "    .dataframe tbody tr th {\n",
              "        vertical-align: top;\n",
              "    }\n",
              "\n",
              "    .dataframe thead th {\n",
              "        text-align: right;\n",
              "    }\n",
              "</style>\n",
              "<table border=\"1\" class=\"dataframe\">\n",
              "  <thead>\n",
              "    <tr style=\"text-align: right;\">\n",
              "      <th></th>\n",
              "      <th>xyz_campaign_id</th>\n",
              "      <th>Impressions</th>\n",
              "      <th>Clicks</th>\n",
              "      <th>ctr</th>\n",
              "      <th>ctr_sd</th>\n",
              "    </tr>\n",
              "  </thead>\n",
              "  <tbody>\n",
              "    <tr>\n",
              "      <th>0</th>\n",
              "      <td>916</td>\n",
              "      <td>482925</td>\n",
              "      <td>113</td>\n",
              "      <td>0.000234</td>\n",
              "      <td>0.015295</td>\n",
              "    </tr>\n",
              "    <tr>\n",
              "      <th>1</th>\n",
              "      <td>936</td>\n",
              "      <td>8128187</td>\n",
              "      <td>1984</td>\n",
              "      <td>0.000244</td>\n",
              "      <td>0.015621</td>\n",
              "    </tr>\n",
              "    <tr>\n",
              "      <th>2</th>\n",
              "      <td>1178</td>\n",
              "      <td>204823716</td>\n",
              "      <td>36068</td>\n",
              "      <td>0.000176</td>\n",
              "      <td>0.013269</td>\n",
              "    </tr>\n",
              "  </tbody>\n",
              "</table>\n",
              "</div>"
            ],
            "text/plain": [
              "   xyz_campaign_id  Impressions  Clicks       ctr    ctr_sd\n",
              "0              916       482925     113  0.000234  0.015295\n",
              "1              936      8128187    1984  0.000244  0.015621\n",
              "2             1178    204823716   36068  0.000176  0.013269"
            ]
          },
          "metadata": {},
          "execution_count": 186
        }
      ]
    },
    {
      "cell_type": "code",
      "metadata": {
        "id": "DJdbML1BCQ7X",
        "colab": {
          "base_uri": "https://localhost:8080/"
        },
        "outputId": "b00bba9c-bd20-4156-ec8d-5ff322cb6422"
      },
      "source": [
        "# use stats.norm.ppf([.025, .975], mean, std error)\n",
        "# where mean is sample mean and std error is std dev / sqrt(obs) (from Central Limit Theorem)\n",
        "\n",
        "#confidence interval for ad 916\n",
        "\n",
        "\n",
        "stats.norm.ppf([.025, .975], 0.000234, \t0.015295/np.sqrt(482925))\n"
      ],
      "execution_count": null,
      "outputs": [
        {
          "output_type": "execute_result",
          "data": {
            "text/plain": [
              "array([0.00019086, 0.00027714])"
            ]
          },
          "metadata": {},
          "execution_count": 187
        }
      ]
    },
    {
      "cell_type": "code",
      "metadata": {
        "id": "5iw0uMWEyzX1",
        "colab": {
          "base_uri": "https://localhost:8080/"
        },
        "outputId": "ddbafe40-f7d8-4919-c368-7b8c78444ee0"
      },
      "source": [
        "# confidence interval for ad 936\n",
        "\n",
        "stats.norm.ppf([.025, .975], 0.000244, 0.015621/np.sqrt(8128187))\n"
      ],
      "execution_count": null,
      "outputs": [
        {
          "output_type": "execute_result",
          "data": {
            "text/plain": [
              "array([0.00023326, 0.00025474])"
            ]
          },
          "metadata": {},
          "execution_count": 188
        }
      ]
    },
    {
      "cell_type": "code",
      "metadata": {
        "id": "z2rG1Vd2y3GH",
        "colab": {
          "base_uri": "https://localhost:8080/"
        },
        "outputId": "ec6ed6f5-302e-4473-dd97-f652357fc7b6"
      },
      "source": [
        "# confidence interval for ad 1178\n",
        "\n",
        "stats.norm.ppf([.025, .975], 0.000176, 0.013269/np.sqrt(204823716))\n"
      ],
      "execution_count": null,
      "outputs": [
        {
          "output_type": "execute_result",
          "data": {
            "text/plain": [
              "array([0.00017418, 0.00017782])"
            ]
          },
          "metadata": {},
          "execution_count": 190
        }
      ]
    },
    {
      "cell_type": "markdown",
      "metadata": {
        "id": "a3WMsEHX9VOa"
      },
      "source": [
        "**Edit this cell**\n",
        "\n",
        "1. (write 1-2 sentences to compare the confidence interval of 916 vs 936's CTR) **916 vs 936 have simular confidence intervals, where the range is not much different.**\n",
        "1. (write 1-2 sentences to compare the confidence interval of 916 vs 1178's CTR) **1178 has a shorter range than 916, but 1178 is more skewed to the right.**"
      ]
    },
    {
      "cell_type": "code",
      "metadata": {
        "id": "u_jk2UHrAGoX"
      },
      "source": [
        "# Use this custom funciton\n",
        "\n",
        "def ttest_2sample(m1,sd1,N1,m2,sd2,N2, twotail = True, equalvar = False):\n",
        "    \"\"\"\n",
        "    This function requires you tu supply:\n",
        "    m1: mean of sample 1\n",
        "    sd1: std. dev of sample 1\n",
        "    N1: number of obs of sample 1\n",
        "    m2: mean of sample 2\n",
        "    sd2: std dev of sample 2\n",
        "    N2: number of obs of sample 2\n",
        "\n",
        "    Optional inputs:\n",
        "    twotail = True (default) / False. If False, then 1 tail\n",
        "    equalvar = True / False (default). If True, assumes equal population variance.\n",
        "    \"\"\"\n",
        "\n",
        "    # The difference between equal and unequal variance is only in how to compute\n",
        "    # the test statistic and degree of freedom.\n",
        "    if equalvar:\n",
        "        spsquare = ((N1-1)*sd1**2+(N2-1)*sd2**2)/(N1+N2-2) \n",
        "        T = (m1-m2)/np.sqrt(spsquare*(1/N1+1/N2))\n",
        "        nu = N1+N2-2\n",
        "    else:\n",
        "        nu = (sd1**2/N1+sd2**2/N2)**2/((sd1**2/N1)**2/(N1-1)+(sd2**2/N2)**2/(N2-1)) # new degree of freedom\n",
        "        T = (m1-m2)/(np.sqrt(sd1**2/N1+sd2**2/N2))\n",
        "    \n",
        "    # If the first mean is bigger, we need to do 1- cdf\n",
        "    # Otherwise just compute cdf\n",
        "    if m1>m2:\n",
        "        pval = 1-stats.t.cdf(T, df = nu)\n",
        "    else:\n",
        "        pval = stats.t.cdf(T, df = nu)\n",
        "\n",
        "    # return p values\n",
        "    # If 2 tail, we must multiply by 2\n",
        "    # otherwise we just return the computed pval\n",
        "    if twotail == True:\n",
        "        return pval*2\n",
        "    else:\n",
        "        return pval"
      ],
      "execution_count": null,
      "outputs": []
    },
    {
      "cell_type": "code",
      "metadata": {
        "id": "IInYMY2dBHLv",
        "colab": {
          "base_uri": "https://localhost:8080/"
        },
        "outputId": "944e3dcd-cf5b-4b28-f30a-ca0eb1fcc07e"
      },
      "source": [
        "# run a 2 tail 2 sample t-test to compare the population CTRs for 936 and 916\n",
        "\n",
        "m1= 0.000244\n",
        "sd1= 0.015621\n",
        "N1= 8128187\n",
        "\n",
        "m2= 0.000234\n",
        "sd2= 0.015295\n",
        "N2= 482925\n",
        "\n",
        "\n",
        "ttest_2sample(m1,sd1,N1,m2,sd2,N2, twotail= True, equalvar= False)"
      ],
      "execution_count": null,
      "outputs": [
        {
          "output_type": "execute_result",
          "data": {
            "text/plain": [
              "0.659290373515292"
            ]
          },
          "metadata": {},
          "execution_count": 181
        }
      ]
    },
    {
      "cell_type": "code",
      "metadata": {
        "id": "qvEZoE2iIagx",
        "colab": {
          "base_uri": "https://localhost:8080/"
        },
        "outputId": "7504a7b5-2931-4a2b-b0d6-3d7fcb1aa156"
      },
      "source": [
        "# run a 2 tail 2 sample t-test to compare the population CTRs for 936 and 1178\n",
        "\n",
        "m1= 0.000244\n",
        "sd1= 0.015621\n",
        "N1= 8128187\n",
        "\n",
        "m2= 0.000176\n",
        "sd2= 0.013269\n",
        "N2= 204823716\n",
        "\n",
        "ttest_2sample(m1,sd1,N1,m2,sd2,N2, twotail = True, equalvar = False)"
      ],
      "execution_count": null,
      "outputs": [
        {
          "output_type": "execute_result",
          "data": {
            "text/plain": [
              "0.0"
            ]
          },
          "metadata": {},
          "execution_count": 183
        }
      ]
    },
    {
      "cell_type": "markdown",
      "metadata": {
        "id": "4_YVpVfB08wW"
      },
      "source": [
        "**Edit this cell to answer**\n",
        "\n",
        "When comparing 916 and 936, the P-Value is very high and has no significance compared to the second comparison test with 936 to 1178. The company should reallocate their budget to put more money into the 916, to bring the P-Value closer to zero and more significant.\n"
      ]
    },
    {
      "cell_type": "markdown",
      "metadata": {
        "id": "ypanZDwVAOu2"
      },
      "source": [
        "# 3. (4 points)\n",
        "\n",
        "Using the Starbucks dataset, conduct an appropriate statistical test to determine:\n",
        "1. Is there any statistically appreciable difference in the redemption rates of BOGO vs. Discount promotions? **No, the P-Value is high, meaning there is not statistical signinficance in their comparison.**\n",
        "1. Among those who redeemed an offer and reported their income, is there any statistical difference in the average income associated with BOGO vs. discount redemptions? Note that not every observation reports income (select only the observations that do). **As the P-Value is smaller, there is a less of a statistical difference than there was with the first comparison.**"
      ]
    },
    {
      "cell_type": "code",
      "metadata": {
        "id": "2hSML7pKQafY"
      },
      "source": [
        "# read in the starbucks_promos.csv file as the dataframe variable named sb, use index_col = 0 option\n",
        "\n",
        "sb = pd.read_csv(fpath + 'starbucks_promos.csv', index_col = 0)"
      ],
      "execution_count": null,
      "outputs": []
    },
    {
      "cell_type": "code",
      "metadata": {
        "id": "K3ZbG5blJPSz",
        "colab": {
          "base_uri": "https://localhost:8080/",
          "height": 411
        },
        "outputId": "6c682df6-1009-4578-be2a-1d678eb90d63"
      },
      "source": [
        "# preview first 5 rows to get a sense of the contents of the dataframe\n",
        "# note that each observation represents an offer received by a customer\n",
        "\n",
        "sb.head()"
      ],
      "execution_count": null,
      "outputs": [
        {
          "output_type": "execute_result",
          "data": {
            "text/html": [
              "<div>\n",
              "<style scoped>\n",
              "    .dataframe tbody tr th:only-of-type {\n",
              "        vertical-align: middle;\n",
              "    }\n",
              "\n",
              "    .dataframe tbody tr th {\n",
              "        vertical-align: top;\n",
              "    }\n",
              "\n",
              "    .dataframe thead th {\n",
              "        text-align: right;\n",
              "    }\n",
              "</style>\n",
              "<table border=\"1\" class=\"dataframe\">\n",
              "  <thead>\n",
              "    <tr style=\"text-align: right;\">\n",
              "      <th></th>\n",
              "      <th>uid</th>\n",
              "      <th>event</th>\n",
              "      <th>time</th>\n",
              "      <th>gender</th>\n",
              "      <th>age</th>\n",
              "      <th>register_date</th>\n",
              "      <th>income</th>\n",
              "      <th>offer_id</th>\n",
              "      <th>offer_reward</th>\n",
              "      <th>channels</th>\n",
              "      <th>difficulty</th>\n",
              "      <th>duration</th>\n",
              "      <th>offer_type</th>\n",
              "      <th>offer_time</th>\n",
              "      <th>transaction_amount</th>\n",
              "      <th>redeem_time</th>\n",
              "      <th>redeemed</th>\n",
              "    </tr>\n",
              "  </thead>\n",
              "  <tbody>\n",
              "    <tr>\n",
              "      <th>1</th>\n",
              "      <td>0020c2b971eb4e9188eac86d93036a77</td>\n",
              "      <td>offer received</td>\n",
              "      <td>0</td>\n",
              "      <td>F</td>\n",
              "      <td>59</td>\n",
              "      <td>20160304</td>\n",
              "      <td>90000.0</td>\n",
              "      <td>fafdcd668e3743c1bb461111dcafc2a4</td>\n",
              "      <td>2.0</td>\n",
              "      <td>['web', 'email', 'mobile', 'social']</td>\n",
              "      <td>10.0</td>\n",
              "      <td>240.0</td>\n",
              "      <td>discount</td>\n",
              "      <td>0.0</td>\n",
              "      <td>17.63</td>\n",
              "      <td>54.0</td>\n",
              "      <td>1</td>\n",
              "    </tr>\n",
              "    <tr>\n",
              "      <th>4</th>\n",
              "      <td>005500a7188546ff8a767329a2f7c76a</td>\n",
              "      <td>offer received</td>\n",
              "      <td>0</td>\n",
              "      <td>M</td>\n",
              "      <td>56</td>\n",
              "      <td>20171209</td>\n",
              "      <td>47000.0</td>\n",
              "      <td>ae264e3637204a6fb9bb56bc8210ddfd</td>\n",
              "      <td>10.0</td>\n",
              "      <td>['email', 'mobile', 'social']</td>\n",
              "      <td>10.0</td>\n",
              "      <td>168.0</td>\n",
              "      <td>bogo</td>\n",
              "      <td>0.0</td>\n",
              "      <td>NaN</td>\n",
              "      <td>NaN</td>\n",
              "      <td>0</td>\n",
              "    </tr>\n",
              "    <tr>\n",
              "      <th>5</th>\n",
              "      <td>0056df74b63b4298809f0b375a304cf4</td>\n",
              "      <td>offer received</td>\n",
              "      <td>0</td>\n",
              "      <td>M</td>\n",
              "      <td>54</td>\n",
              "      <td>20160821</td>\n",
              "      <td>91000.0</td>\n",
              "      <td>9b98b8c7a33c4b65b9aebfe6a799e6d9</td>\n",
              "      <td>5.0</td>\n",
              "      <td>['web', 'email', 'mobile']</td>\n",
              "      <td>5.0</td>\n",
              "      <td>168.0</td>\n",
              "      <td>bogo</td>\n",
              "      <td>0.0</td>\n",
              "      <td>27.86</td>\n",
              "      <td>132.0</td>\n",
              "      <td>1</td>\n",
              "    </tr>\n",
              "    <tr>\n",
              "      <th>6</th>\n",
              "      <td>00715b6e55c3431cb56ff7307eb19675</td>\n",
              "      <td>offer received</td>\n",
              "      <td>0</td>\n",
              "      <td>F</td>\n",
              "      <td>58</td>\n",
              "      <td>20171207</td>\n",
              "      <td>119000.0</td>\n",
              "      <td>ae264e3637204a6fb9bb56bc8210ddfd</td>\n",
              "      <td>10.0</td>\n",
              "      <td>['email', 'mobile', 'social']</td>\n",
              "      <td>10.0</td>\n",
              "      <td>168.0</td>\n",
              "      <td>bogo</td>\n",
              "      <td>0.0</td>\n",
              "      <td>27.26</td>\n",
              "      <td>12.0</td>\n",
              "      <td>1</td>\n",
              "    </tr>\n",
              "    <tr>\n",
              "      <th>8</th>\n",
              "      <td>00840a2ca5d2408e982d56544dc14ffd</td>\n",
              "      <td>offer received</td>\n",
              "      <td>0</td>\n",
              "      <td>M</td>\n",
              "      <td>26</td>\n",
              "      <td>20141221</td>\n",
              "      <td>61000.0</td>\n",
              "      <td>2906b810c7d4411798c6938adc9daaa5</td>\n",
              "      <td>2.0</td>\n",
              "      <td>['web', 'email', 'mobile']</td>\n",
              "      <td>10.0</td>\n",
              "      <td>168.0</td>\n",
              "      <td>discount</td>\n",
              "      <td>0.0</td>\n",
              "      <td>6.05</td>\n",
              "      <td>540.0</td>\n",
              "      <td>1</td>\n",
              "    </tr>\n",
              "  </tbody>\n",
              "</table>\n",
              "</div>"
            ],
            "text/plain": [
              "                                uid           event  ...  redeem_time redeemed\n",
              "1  0020c2b971eb4e9188eac86d93036a77  offer received  ...         54.0        1\n",
              "4  005500a7188546ff8a767329a2f7c76a  offer received  ...          NaN        0\n",
              "5  0056df74b63b4298809f0b375a304cf4  offer received  ...        132.0        1\n",
              "6  00715b6e55c3431cb56ff7307eb19675  offer received  ...         12.0        1\n",
              "8  00840a2ca5d2408e982d56544dc14ffd  offer received  ...        540.0        1\n",
              "\n",
              "[5 rows x 17 columns]"
            ]
          },
          "metadata": {},
          "execution_count": 12
        }
      ]
    },
    {
      "cell_type": "code",
      "metadata": {
        "id": "iC8EEC4kJS6L"
      },
      "source": [
        "# select the redeemed column for discount offers, name this data the variable disc\n",
        "\n",
        "disc = sb.loc[sb.offer_type =='discount', 'redeemed']"
      ],
      "execution_count": null,
      "outputs": []
    },
    {
      "cell_type": "code",
      "metadata": {
        "id": "pGo0BwRTKYRb"
      },
      "source": [
        "# select the reemed column for buy one get one (bogo) offers, name this data the variable bogo\n",
        "\n",
        "bogo = sb.loc[sb.offer_type=='bogo', 'redeemed']"
      ],
      "execution_count": null,
      "outputs": []
    },
    {
      "cell_type": "code",
      "metadata": {
        "id": "WpAY07u7Kbez",
        "colab": {
          "base_uri": "https://localhost:8080/"
        },
        "outputId": "6d877f9b-fe9d-4f70-dabc-6901e408fc3c"
      },
      "source": [
        "# use stats.ttest_ind to test whether the 2 types of offers yield different redemption rates\n",
        "\n",
        "stats.ttest_ind(disc, bogo, equal_var = False)[1]"
      ],
      "execution_count": null,
      "outputs": [
        {
          "output_type": "execute_result",
          "data": {
            "text/plain": [
              "6.641774929557673e-67"
            ]
          },
          "metadata": {},
          "execution_count": 16
        }
      ]
    },
    {
      "cell_type": "code",
      "metadata": {
        "id": "vdcPjmahLwPn"
      },
      "source": [
        "# Select the income column for those who redeemed the BOGO offer, call this the variable bogo_income\n",
        "# note you need to use 3 condtitions for the row selection: one for redeemed, one for bogo offer, and one for income is not missing\n",
        "# FYI: dataframe.somecolumn.notnull() is the Boolean evaluation for whether the somecolumn is not missing data\n",
        "\n",
        "bogo_income = sb.loc[(sb.redeemed == 1)&(sb.offer_type == 'bogo')&(sb.income.notnull()), 'income']"
      ],
      "execution_count": null,
      "outputs": []
    },
    {
      "cell_type": "code",
      "metadata": {
        "id": "9giiAZ1P6El-"
      },
      "source": [
        "# Select the income column for those who redeemed the discount offer, call this the variable disc_income\n",
        "# note you need to use 3 condtitions for the row selection: one for redeemed, one for discount offer,  and one for income is not missing\n",
        "# FYI: dataframe.somecolumn.notnull() is the Boolean evaluation for whether the somecolumn is not missing data\n",
        "\n",
        "disc_income = sb.loc[(sb.redeemed == 1)&(sb.offer_type == 'discount')&(sb.income.notnull()), 'income']"
      ],
      "execution_count": null,
      "outputs": []
    },
    {
      "cell_type": "code",
      "metadata": {
        "id": "vt9kRYVh7J2N",
        "colab": {
          "base_uri": "https://localhost:8080/"
        },
        "outputId": "bb68fe63-406c-465d-e895-dff382a45812"
      },
      "source": [
        "# What is the average income for bogo redeemers (bogo_income.mean())?\n",
        "\n",
        "bogo_income.mean()"
      ],
      "execution_count": null,
      "outputs": [
        {
          "output_type": "execute_result",
          "data": {
            "text/plain": [
              "70114.8559593297"
            ]
          },
          "metadata": {},
          "execution_count": 198
        }
      ]
    },
    {
      "cell_type": "code",
      "metadata": {
        "id": "GvoIFMFr7Ow1",
        "colab": {
          "base_uri": "https://localhost:8080/"
        },
        "outputId": "890d4042-9975-4404-9a9a-231986fac26e"
      },
      "source": [
        "# What is the average income for discount redeemers?\n",
        "\n",
        "disc_income.mean()"
      ],
      "execution_count": null,
      "outputs": [
        {
          "output_type": "execute_result",
          "data": {
            "text/plain": [
              "68617.39130434782"
            ]
          },
          "metadata": {},
          "execution_count": 199
        }
      ]
    },
    {
      "cell_type": "code",
      "metadata": {
        "id": "zV-OOhTT6RY8",
        "colab": {
          "base_uri": "https://localhost:8080/"
        },
        "outputId": "74d01426-baf6-4834-cca4-bb47ac67ab1a"
      },
      "source": [
        "# use stats.ttest_ind to test whether the average income of the redeemers of the 2 offer types are different\n",
        "\n",
        "stats.ttest_ind(bogo_income, disc_income, equal_var = False)[1]"
      ],
      "execution_count": null,
      "outputs": [
        {
          "output_type": "execute_result",
          "data": {
            "text/plain": [
              "2.283574816464658e-10"
            ]
          },
          "metadata": {},
          "execution_count": 200
        }
      ]
    },
    {
      "cell_type": "markdown",
      "metadata": {
        "id": "bhAXZ0kO6a5B"
      },
      "source": [
        "**Edit this cell**\n",
        "1. The first t-test showed there was little to no coorelation between the two categories and whther they were redeemed or not.\n",
        "1. Discounts and bogo offers were redeemed far more often depending on the income of the shopper. The t-test showed there was a very strong coorelation between the two. "
      ]
    }
  ]
}